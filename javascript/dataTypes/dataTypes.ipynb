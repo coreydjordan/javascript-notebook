{
 "cells": [
  {
   "cell_type": "markdown",
   "metadata": {},
   "source": [
    "<h1>Booleans</h1>"
   ]
  },
  {
   "cell_type": "code",
   "execution_count": null,
   "metadata": {
    "dotnet_interactive": {
     "language": "javascript"
    },
    "vscode": {
     "languageId": "dotnet-interactive.javascript"
    }
   },
   "outputs": [],
   "source": [
    "Boolean(10 > 9)//True\n",
    "Boolean(10 < 9)//False"
   ]
  },
  {
   "cell_type": "markdown",
   "metadata": {},
   "source": [
    "<h1>Boolean constructor</h1>\n",
    "<p>The constructor property returns the function that created the Boolean prototype.\n",
    "\n",
    "For JavaScript booleans the constructor property returns:\n",
    "\n",
    "function Boolean() { [native code] }\n",
    "\n",
    "</p>"
   ]
  },
  {
   "cell_type": "code",
   "execution_count": null,
   "metadata": {
    "dotnet_interactive": {
     "language": "javascript"
    },
    "vscode": {
     "languageId": "dotnet-interactive.javascript"
    }
   },
   "outputs": [],
   "source": [
    "let bool = false;\n",
    "let text = bool.constructor;"
   ]
  },
  {
   "cell_type": "markdown",
   "metadata": {},
   "source": [
    "<h1>Objects (dictionaries)</h1>\n",
    "<p>JavaScript objects are written with curly braces {}.\n",
    "\n",
    "Object properties are written as name:value pairs, separated by commas.</p>"
   ]
  },
  {
   "cell_type": "code",
   "execution_count": null,
   "metadata": {
    "dotnet_interactive": {
     "language": "javascript"
    },
    "vscode": {
     "languageId": "dotnet-interactive.javascript"
    }
   },
   "outputs": [],
   "source": [
    "const person = {firstName:\"Corey\", lastName:\"Jordan\", age:30, eyeColor:\"Green\"};\n",
    "//this person object has 4 properties\n",
    "const car = {make: \"Subaru\", model:\"Forester\", year: 2010, color:\"Black\"};"
   ]
  },
  {
   "cell_type": "markdown",
   "metadata": {},
   "source": [
    "<h1>typeOf Operator</h1>\n",
    "<p>The type of operator is the same as the type() function in Python.</p>"
   ]
  },
  {
   "cell_type": "code",
   "execution_count": null,
   "metadata": {
    "dotnet_interactive": {
     "language": "javascript"
    },
    "vscode": {
     "languageId": "dotnet-interactive.javascript"
    }
   },
   "outputs": [],
   "source": [
    "typeOf \"Corey\" //returns string\n",
    "typeOf 30 //returns number\n",
    "typeOf 3.14 //returns number"
   ]
  }
 ],
 "metadata": {
  "kernelspec": {
   "display_name": ".NET (C#)",
   "language": "C#",
   "name": ".net-csharp"
  },
  "language_info": {
   "file_extension": ".cs",
   "mimetype": "text/x-csharp",
   "name": "C#",
   "pygments_lexer": "csharp",
   "version": "9.0"
  },
  "orig_nbformat": 4
 },
 "nbformat": 4,
 "nbformat_minor": 2
}
