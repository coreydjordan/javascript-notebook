{
 "cells": [
  {
   "cell_type": "markdown",
   "metadata": {},
   "source": [
    "<h1>Exception Handling Statements</h1>\n",
    "<p>You can throw exceptions using the throw statement and handle them using the try...catch statements.</p>"
   ]
  },
  {
   "cell_type": "markdown",
   "metadata": {},
   "source": [
    "<h1>Throw Statement</h1>"
   ]
  },
  {
   "cell_type": "code",
   "execution_count": null,
   "metadata": {
    "dotnet_interactive": {
     "language": "javascript"
    },
    "vscode": {
     "languageId": "dotnet-interactive.javascript"
    }
   },
   "outputs": [],
   "source": [
    "<p>Please input a number between 5 and 10:</p>\n",
    "\n",
    "<input id=\"demo\" type=\"text\">\n",
    "<button type=\"button\" onclick=\"myFunction()\">Test Input</button>\n",
    "<p id=\"message\"></p>\n",
    "\n",
    "<script>\n",
    "function myFunction() {\n",
    "  const message = document.getElementById(\"message\");\n",
    "  message.innerHTML = \"\";\n",
    "  let x = document.getElementById(\"demo\").value;\n",
    "  try {\n",
    "    if(x == \"\") throw \"is Empty\";\n",
    "    if(isNaN(x)) throw \"not a number\";\n",
    "    if(x > 10) throw \"too high\";\n",
    "    if(x < 5) throw \"too low\";\n",
    "  }\n",
    "  catch(err) {\n",
    "    message.innerHTML = \"Input \" + err;\n",
    "  }\n",
    "}\n",
    "</script>"
   ]
  }
 ],
 "metadata": {
  "kernelspec": {
   "display_name": ".NET (C#)",
   "language": "C#",
   "name": ".net-csharp"
  },
  "language_info": {
   "file_extension": ".cs",
   "mimetype": "text/x-csharp",
   "name": "C#",
   "pygments_lexer": "csharp",
   "version": "9.0"
  },
  "orig_nbformat": 4
 },
 "nbformat": 4,
 "nbformat_minor": 2
}
