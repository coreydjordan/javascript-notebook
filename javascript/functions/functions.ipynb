{
 "cells": [
  {
   "cell_type": "markdown",
   "metadata": {},
   "source": [
    "<h1>Function syntax</h1>"
   ]
  },
  {
   "cell_type": "code",
   "execution_count": null,
   "metadata": {
    "dotnet_interactive": {
     "language": "javascript"
    },
    "vscode": {
     "languageId": "dotnet-interactive.javascript"
    }
   },
   "outputs": [],
   "source": [
    "function favoriteAnimal(animal){\n",
    "    console.log(animal + \" is my favorite\")\n",
    "}\n",
    "\n",
    "favoriteAnimal(\"Dog\")"
   ]
  },
  {
   "cell_type": "markdown",
   "metadata": {},
   "source": [
    "<h1>Arrow Functions</h1>"
   ]
  },
  {
   "cell_type": "markdown",
   "metadata": {},
   "source": [
    "<h2>Arrow function syntax</h2>\n",
    "<p>This creates a function func that accepts arguments arg1..argN, then evaluates the expression on the right side with their use and returns its result.</p>"
   ]
  },
  {
   "cell_type": "code",
   "execution_count": null,
   "metadata": {
    "dotnet_interactive": {
     "language": "javascript"
    },
    "vscode": {
     "languageId": "dotnet-interactive.javascript"
    }
   },
   "outputs": [],
   "source": [
    "let func = (arg1, arg2, ..., argN) => expression;"
   ]
  },
  {
   "cell_type": "markdown",
   "metadata": {},
   "source": [
    "<p>It is the shorter version of...</p>"
   ]
  },
  {
   "cell_type": "code",
   "execution_count": null,
   "metadata": {
    "dotnet_interactive": {
     "language": "javascript"
    },
    "vscode": {
     "languageId": "dotnet-interactive.javascript"
    }
   },
   "outputs": [],
   "source": [
    "let func = function(arg1, arg2, ..., argN){\n",
    "    return expression;\n",
    "};"
   ]
  },
  {
   "cell_type": "markdown",
   "metadata": {},
   "source": [
    "<h2>Real example</h2>\n",
    "<p>The arrow function still accepts 2 arguments, a and b, but instead of multi line function with a return statement, it just uses the arrow to say 'return' a + b. When the function is called (sum(1,2)) it is the same as Python.</p>"
   ]
  },
  {
   "cell_type": "code",
   "execution_count": null,
   "metadata": {
    "dotnet_interactive": {
     "language": "javascript"
    },
    "vscode": {
     "languageId": "dotnet-interactive.javascript"
    }
   },
   "outputs": [],
   "source": [
    "let sum = (a,b) => a + b;\n",
    "\n",
    "//shorter version of...\n",
    "let sum = function(a,b){\n",
    "    return a + b\n",
    "}\n",
    "\n",
    "alert(sum(1,2));//3"
   ]
  },
  {
   "cell_type": "markdown",
   "metadata": {},
   "source": [
    "<h1>Arrow function with 1 argument</h1>\n",
    "<p>If there is only 1 argument, omit the parentheses around the parameters making the code even shorter</p>"
   ]
  },
  {
   "cell_type": "code",
   "execution_count": null,
   "metadata": {
    "dotnet_interactive": {
     "language": "javascript"
    },
    "vscode": {
     "languageId": "dotnet-interactive.javascript"
    }
   },
   "outputs": [],
   "source": [
    "let double = n => n * 2;\n",
    "\n",
    "alert(double(3));//6"
   ]
  },
  {
   "cell_type": "markdown",
   "metadata": {},
   "source": [
    "<h1>Arrow function with no arguments</h1>\n",
    "<p>If there are no arguments, the parentheses are empty, but still present</p>"
   ]
  },
  {
   "cell_type": "code",
   "execution_count": null,
   "metadata": {
    "dotnet_interactive": {
     "language": "javascript"
    },
    "vscode": {
     "languageId": "dotnet-interactive.javascript"
    }
   },
   "outputs": [],
   "source": [
    "let sayHi = () => alert(\"Hello!\");\n",
    "\n",
    "sayHi();"
   ]
  },
  {
   "cell_type": "markdown",
   "metadata": {},
   "source": [
    "<h1>Multi Line Arrow Functions</h1>\n",
    "<p>The arrow functions that we’ve seen so far were very simple. They took arguments from the left of =>, evaluated and returned the right-side expression with them.\n",
    "\n",
    "Sometimes we need a more complex function, with multiple expressions and statements. In that case, we can enclose them in curly braces. The major difference is that curly braces require a return within them to return a value (just like a regular function does).\n",
    "\n",
    "Like this:</p>"
   ]
  },
  {
   "cell_type": "code",
   "execution_count": null,
   "metadata": {
    "dotnet_interactive": {
     "language": "javascript"
    },
    "vscode": {
     "languageId": "dotnet-interactive.javascript"
    }
   },
   "outputs": [],
   "source": [
    "let sum = (a,b) => {\n",
    "    let result = a + b;\n",
    "    return result;\n",
    "}\n",
    "alert(sum(1,4));//5"
   ]
  }
 ],
 "metadata": {
  "kernelspec": {
   "display_name": ".NET (C#)",
   "language": "C#",
   "name": ".net-csharp"
  },
  "language_info": {
   "file_extension": ".cs",
   "mimetype": "text/x-csharp",
   "name": "C#",
   "pygments_lexer": "csharp",
   "version": "9.0"
  },
  "orig_nbformat": 4
 },
 "nbformat": 4,
 "nbformat_minor": 2
}
