{
 "cells": [
  {
   "cell_type": "markdown",
   "metadata": {},
   "source": [
    "<h1>Type Conversions</h1>\n",
    "<p>Most of the time, operators and functions automatically convert the values given to them to the right type.\n",
    "\n",
    "For example, alert automatically converts any value to a string to show it. Mathematical operations convert values to numbers.\n",
    "\n",
    "There are also cases when we need to explicitly convert a value to the expected type.</p>"
   ]
  },
  {
   "cell_type": "markdown",
   "metadata": {},
   "source": [
    "<h1>String Conversion</h1>\n",
    "<p>String conversion happens when we need the string form of a value.\n",
    "\n",
    "For example, alert(value) does it to show the value.\n",
    "\n",
    "We can also call the String(value) function to convert a value to a string:</p>"
   ]
  },
  {
   "cell_type": "code",
   "execution_count": 1,
   "metadata": {
    "dotnet_interactive": {
     "language": "javascript"
    },
    "vscode": {
     "languageId": "dotnet-interactive.javascript"
    }
   },
   "outputs": [
    {
     "data": {
      "application/javascript": "console.log(\"hello\")\n",
      "text/plain": [
       "<IPython.core.display.Javascript object>"
      ]
     },
     "metadata": {},
     "output_type": "display_data"
    }
   ],
   "source": [
    "let value = true;\n",
    "alert(typeof value);\n",
    "\n",
    "value = String(value);\n",
    "alert(typeof value);\n",
    "\n",
    "//is the same as value = True <-- is a boolean value = str(value) now is == 'True' <-- string"
   ]
  },
  {
   "cell_type": "markdown",
   "metadata": {},
   "source": [
    "<h1>Numeric Conversion</h1>\n",
    "<p>Numeric conversion happens in mathematical functions and expressions automatically.\n",
    "\n",
    "For example, when division / is applied to non-numbers:</p>"
   ]
  },
  {
   "cell_type": "code",
   "execution_count": null,
   "metadata": {
    "dotnet_interactive": {
     "language": "javascript"
    },
    "vscode": {
     "languageId": "dotnet-interactive.javascript"
    }
   },
   "outputs": [],
   "source": [
    "alert(\"6\" / \"2\"); //3, strings are converted to numbers automatically. "
   ]
  },
  {
   "cell_type": "markdown",
   "metadata": {},
   "source": [
    "<p>We can use the Number(value) function to explicitly convert a value to a number:</p>"
   ]
  },
  {
   "cell_type": "code",
   "execution_count": null,
   "metadata": {
    "dotnet_interactive": {
     "language": "javascript"
    },
    "vscode": {
     "languageId": "dotnet-interactive.javascript"
    }
   },
   "outputs": [],
   "source": [
    "let str = \"123\";\n",
    "let num = Number(str); //converts like like int(str)\n",
    "alert(typeof num); //number"
   ]
  },
  {
   "cell_type": "markdown",
   "metadata": {},
   "source": [
    "<p>Explicit conversion is usually required when we read a value from a string-based source like a text form but expect a number to be entered.\n",
    "\n",
    "If the string is not a valid number, the result of such a conversion is NaN. For instance:</p>"
   ]
  },
  {
   "cell_type": "code",
   "execution_count": null,
   "metadata": {
    "dotnet_interactive": {
     "language": "javascript"
    },
    "vscode": {
     "languageId": "dotnet-interactive.javascript"
    }
   },
   "outputs": [],
   "source": [
    "let age = Number(\"forty four\");\n",
    "alert(age); //NaN, conversion failed. (NaN == Not a Number)"
   ]
  }
 ],
 "metadata": {
  "kernelspec": {
   "display_name": ".NET (C#)",
   "language": "C#",
   "name": ".net-csharp"
  },
  "language_info": {
   "file_extension": ".cs",
   "mimetype": "text/x-csharp",
   "name": "C#",
   "pygments_lexer": "csharp",
   "version": "9.0"
  },
  "orig_nbformat": 4,
  "vscode": {
   "interpreter": {
    "hash": "aee8b7b246df8f9039afb4144a1f6fd8d2ca17a180786b69acc140d282b71a49"
   }
  }
 },
 "nbformat": 4,
 "nbformat_minor": 2
}
